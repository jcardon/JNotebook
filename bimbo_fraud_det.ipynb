{
  "nbformat": 4,
  "nbformat_minor": 0,
  "metadata": {
    "colab": {
      "name": "bimbo_fraud_det.ipynb",
      "version": "0.3.2",
      "provenance": [],
      "collapsed_sections": [],
      "include_colab_link": true
    },
    "kernelspec": {
      "name": "python3",
      "display_name": "Python 3"
    }
  },
  "cells": [
    {
      "cell_type": "markdown",
      "metadata": {
        "id": "view-in-github",
        "colab_type": "text"
      },
      "source": [
        "<a href=\"https://colab.research.google.com/github/jcardon/JNotebook/blob/master/bimbo_fraud_det.ipynb\" target=\"_parent\"><img src=\"https://colab.research.google.com/assets/colab-badge.svg\" alt=\"Open In Colab\"/></a>"
      ]
    },
    {
      "cell_type": "markdown",
      "metadata": {
        "id": "vyod787Wkb7F",
        "colab_type": "text"
      },
      "source": [
        "Leemos nuestros archivos:\n"
      ]
    },
    {
      "cell_type": "code",
      "metadata": {
        "id": "rBsUCXXWTpW1",
        "colab_type": "code",
        "outputId": "d3ac1406-64b6-4317-bcd6-f28b5e353d9f",
        "colab": {
          "resources": {
            "http://localhost:8080/nbextensions/google.colab/files.js": {
              "data": "Ly8gQ29weXJpZ2h0IDIwMTcgR29vZ2xlIExMQwovLwovLyBMaWNlbnNlZCB1bmRlciB0aGUgQXBhY2hlIExpY2Vuc2UsIFZlcnNpb24gMi4wICh0aGUgIkxpY2Vuc2UiKTsKLy8geW91IG1heSBub3QgdXNlIHRoaXMgZmlsZSBleGNlcHQgaW4gY29tcGxpYW5jZSB3aXRoIHRoZSBMaWNlbnNlLgovLyBZb3UgbWF5IG9idGFpbiBhIGNvcHkgb2YgdGhlIExpY2Vuc2UgYXQKLy8KLy8gICAgICBodHRwOi8vd3d3LmFwYWNoZS5vcmcvbGljZW5zZXMvTElDRU5TRS0yLjAKLy8KLy8gVW5sZXNzIHJlcXVpcmVkIGJ5IGFwcGxpY2FibGUgbGF3IG9yIGFncmVlZCB0byBpbiB3cml0aW5nLCBzb2Z0d2FyZQovLyBkaXN0cmlidXRlZCB1bmRlciB0aGUgTGljZW5zZSBpcyBkaXN0cmlidXRlZCBvbiBhbiAiQVMgSVMiIEJBU0lTLAovLyBXSVRIT1VUIFdBUlJBTlRJRVMgT1IgQ09ORElUSU9OUyBPRiBBTlkgS0lORCwgZWl0aGVyIGV4cHJlc3Mgb3IgaW1wbGllZC4KLy8gU2VlIHRoZSBMaWNlbnNlIGZvciB0aGUgc3BlY2lmaWMgbGFuZ3VhZ2UgZ292ZXJuaW5nIHBlcm1pc3Npb25zIGFuZAovLyBsaW1pdGF0aW9ucyB1bmRlciB0aGUgTGljZW5zZS4KCi8qKgogKiBAZmlsZW92ZXJ2aWV3IEhlbHBlcnMgZm9yIGdvb2dsZS5jb2xhYiBQeXRob24gbW9kdWxlLgogKi8KKGZ1bmN0aW9uKHNjb3BlKSB7CmZ1bmN0aW9uIHNwYW4odGV4dCwgc3R5bGVBdHRyaWJ1dGVzID0ge30pIHsKICBjb25zdCBlbGVtZW50ID0gZG9jdW1lbnQuY3JlYXRlRWxlbWVudCgnc3BhbicpOwogIGVsZW1lbnQudGV4dENvbnRlbnQgPSB0ZXh0OwogIGZvciAoY29uc3Qga2V5IG9mIE9iamVjdC5rZXlzKHN0eWxlQXR0cmlidXRlcykpIHsKICAgIGVsZW1lbnQuc3R5bGVba2V5XSA9IHN0eWxlQXR0cmlidXRlc1trZXldOwogIH0KICByZXR1cm4gZWxlbWVudDsKfQoKLy8gTWF4IG51bWJlciBvZiBieXRlcyB3aGljaCB3aWxsIGJlIHVwbG9hZGVkIGF0IGEgdGltZS4KY29uc3QgTUFYX1BBWUxPQURfU0laRSA9IDEwMCAqIDEwMjQ7Ci8vIE1heCBhbW91bnQgb2YgdGltZSB0byBibG9jayB3YWl0aW5nIGZvciB0aGUgdXNlci4KY29uc3QgRklMRV9DSEFOR0VfVElNRU9VVF9NUyA9IDMwICogMTAwMDsKCmZ1bmN0aW9uIF91cGxvYWRGaWxlcyhpbnB1dElkLCBvdXRwdXRJZCkgewogIGNvbnN0IHN0ZXBzID0gdXBsb2FkRmlsZXNTdGVwKGlucHV0SWQsIG91dHB1dElkKTsKICBjb25zdCBvdXRwdXRFbGVtZW50ID0gZG9jdW1lbnQuZ2V0RWxlbWVudEJ5SWQob3V0cHV0SWQpOwogIC8vIENhY2hlIHN0ZXBzIG9uIHRoZSBvdXRwdXRFbGVtZW50IHRvIG1ha2UgaXQgYXZhaWxhYmxlIGZvciB0aGUgbmV4dCBjYWxsCiAgLy8gdG8gdXBsb2FkRmlsZXNDb250aW51ZSBmcm9tIFB5dGhvbi4KICBvdXRwdXRFbGVtZW50LnN0ZXBzID0gc3RlcHM7CgogIHJldHVybiBfdXBsb2FkRmlsZXNDb250aW51ZShvdXRwdXRJZCk7Cn0KCi8vIFRoaXMgaXMgcm91Z2hseSBhbiBhc3luYyBnZW5lcmF0b3IgKG5vdCBzdXBwb3J0ZWQgaW4gdGhlIGJyb3dzZXIgeWV0KSwKLy8gd2hlcmUgdGhlcmUgYXJlIG11bHRpcGxlIGFzeW5jaHJvbm91cyBzdGVwcyBhbmQgdGhlIFB5dGhvbiBzaWRlIGlzIGdvaW5nCi8vIHRvIHBvbGwgZm9yIGNvbXBsZXRpb24gb2YgZWFjaCBzdGVwLgovLyBUaGlzIHVzZXMgYSBQcm9taXNlIHRvIGJsb2NrIHRoZSBweXRob24gc2lkZSBvbiBjb21wbGV0aW9uIG9mIGVhY2ggc3RlcCwKLy8gdGhlbiBwYXNzZXMgdGhlIHJlc3VsdCBvZiB0aGUgcHJldmlvdXMgc3RlcCBhcyB0aGUgaW5wdXQgdG8gdGhlIG5leHQgc3RlcC4KZnVuY3Rpb24gX3VwbG9hZEZpbGVzQ29udGludWUob3V0cHV0SWQpIHsKICBjb25zdCBvdXRwdXRFbGVtZW50ID0gZG9jdW1lbnQuZ2V0RWxlbWVudEJ5SWQob3V0cHV0SWQpOwogIGNvbnN0IHN0ZXBzID0gb3V0cHV0RWxlbWVudC5zdGVwczsKCiAgY29uc3QgbmV4dCA9IHN0ZXBzLm5leHQob3V0cHV0RWxlbWVudC5sYXN0UHJvbWlzZVZhbHVlKTsKICByZXR1cm4gUHJvbWlzZS5yZXNvbHZlKG5leHQudmFsdWUucHJvbWlzZSkudGhlbigodmFsdWUpID0+IHsKICAgIC8vIENhY2hlIHRoZSBsYXN0IHByb21pc2UgdmFsdWUgdG8gbWFrZSBpdCBhdmFpbGFibGUgdG8gdGhlIG5leHQKICAgIC8vIHN0ZXAgb2YgdGhlIGdlbmVyYXRvci4KICAgIG91dHB1dEVsZW1lbnQubGFzdFByb21pc2VWYWx1ZSA9IHZhbHVlOwogICAgcmV0dXJuIG5leHQudmFsdWUucmVzcG9uc2U7CiAgfSk7Cn0KCi8qKgogKiBHZW5lcmF0b3IgZnVuY3Rpb24gd2hpY2ggaXMgY2FsbGVkIGJldHdlZW4gZWFjaCBhc3luYyBzdGVwIG9mIHRoZSB1cGxvYWQKICogcHJvY2Vzcy4KICogQHBhcmFtIHtzdHJpbmd9IGlucHV0SWQgRWxlbWVudCBJRCBvZiB0aGUgaW5wdXQgZmlsZSBwaWNrZXIgZWxlbWVudC4KICogQHBhcmFtIHtzdHJpbmd9IG91dHB1dElkIEVsZW1lbnQgSUQgb2YgdGhlIG91dHB1dCBkaXNwbGF5LgogKiBAcmV0dXJuIHshSXRlcmFibGU8IU9iamVjdD59IEl0ZXJhYmxlIG9mIG5leHQgc3RlcHMuCiAqLwpmdW5jdGlvbiogdXBsb2FkRmlsZXNTdGVwKGlucHV0SWQsIG91dHB1dElkKSB7CiAgY29uc3QgaW5wdXRFbGVtZW50ID0gZG9jdW1lbnQuZ2V0RWxlbWVudEJ5SWQoaW5wdXRJZCk7CiAgaW5wdXRFbGVtZW50LmRpc2FibGVkID0gZmFsc2U7CgogIGNvbnN0IG91dHB1dEVsZW1lbnQgPSBkb2N1bWVudC5nZXRFbGVtZW50QnlJZChvdXRwdXRJZCk7CiAgb3V0cHV0RWxlbWVudC5pbm5lckhUTUwgPSAnJzsKCiAgY29uc3QgcGlja2VkUHJvbWlzZSA9IG5ldyBQcm9taXNlKChyZXNvbHZlKSA9PiB7CiAgICBpbnB1dEVsZW1lbnQuYWRkRXZlbnRMaXN0ZW5lcignY2hhbmdlJywgKGUpID0+IHsKICAgICAgcmVzb2x2ZShlLnRhcmdldC5maWxlcyk7CiAgICB9KTsKICB9KTsKCiAgY29uc3QgY2FuY2VsID0gZG9jdW1lbnQuY3JlYXRlRWxlbWVudCgnYnV0dG9uJyk7CiAgaW5wdXRFbGVtZW50LnBhcmVudEVsZW1lbnQuYXBwZW5kQ2hpbGQoY2FuY2VsKTsKICBjYW5jZWwudGV4dENvbnRlbnQgPSAnQ2FuY2VsIHVwbG9hZCc7CiAgY29uc3QgY2FuY2VsUHJvbWlzZSA9IG5ldyBQcm9taXNlKChyZXNvbHZlKSA9PiB7CiAgICBjYW5jZWwub25jbGljayA9ICgpID0+IHsKICAgICAgcmVzb2x2ZShudWxsKTsKICAgIH07CiAgfSk7CgogIC8vIENhbmNlbCB1cGxvYWQgaWYgdXNlciBoYXNuJ3QgcGlja2VkIGFueXRoaW5nIGluIHRpbWVvdXQuCiAgY29uc3QgdGltZW91dFByb21pc2UgPSBuZXcgUHJvbWlzZSgocmVzb2x2ZSkgPT4gewogICAgc2V0VGltZW91dCgoKSA9PiB7CiAgICAgIHJlc29sdmUobnVsbCk7CiAgICB9LCBGSUxFX0NIQU5HRV9USU1FT1VUX01TKTsKICB9KTsKCiAgLy8gV2FpdCBmb3IgdGhlIHVzZXIgdG8gcGljayB0aGUgZmlsZXMuCiAgY29uc3QgZmlsZXMgPSB5aWVsZCB7CiAgICBwcm9taXNlOiBQcm9taXNlLnJhY2UoW3BpY2tlZFByb21pc2UsIHRpbWVvdXRQcm9taXNlLCBjYW5jZWxQcm9taXNlXSksCiAgICByZXNwb25zZTogewogICAgICBhY3Rpb246ICdzdGFydGluZycsCiAgICB9CiAgfTsKCiAgaWYgKCFmaWxlcykgewogICAgcmV0dXJuIHsKICAgICAgcmVzcG9uc2U6IHsKICAgICAgICBhY3Rpb246ICdjb21wbGV0ZScsCiAgICAgIH0KICAgIH07CiAgfQoKICBjYW5jZWwucmVtb3ZlKCk7CgogIC8vIERpc2FibGUgdGhlIGlucHV0IGVsZW1lbnQgc2luY2UgZnVydGhlciBwaWNrcyBhcmUgbm90IGFsbG93ZWQuCiAgaW5wdXRFbGVtZW50LmRpc2FibGVkID0gdHJ1ZTsKCiAgZm9yIChjb25zdCBmaWxlIG9mIGZpbGVzKSB7CiAgICBjb25zdCBsaSA9IGRvY3VtZW50LmNyZWF0ZUVsZW1lbnQoJ2xpJyk7CiAgICBsaS5hcHBlbmQoc3BhbihmaWxlLm5hbWUsIHtmb250V2VpZ2h0OiAnYm9sZCd9KSk7CiAgICBsaS5hcHBlbmQoc3BhbigKICAgICAgICBgKCR7ZmlsZS50eXBlIHx8ICduL2EnfSkgLSAke2ZpbGUuc2l6ZX0gYnl0ZXMsIGAgKwogICAgICAgIGBsYXN0IG1vZGlmaWVkOiAkewogICAgICAgICAgICBmaWxlLmxhc3RNb2RpZmllZERhdGUgPyBmaWxlLmxhc3RNb2RpZmllZERhdGUudG9Mb2NhbGVEYXRlU3RyaW5nKCkgOgogICAgICAgICAgICAgICAgICAgICAgICAgICAgICAgICAgICAnbi9hJ30gLSBgKSk7CiAgICBjb25zdCBwZXJjZW50ID0gc3BhbignMCUgZG9uZScpOwogICAgbGkuYXBwZW5kQ2hpbGQocGVyY2VudCk7CgogICAgb3V0cHV0RWxlbWVudC5hcHBlbmRDaGlsZChsaSk7CgogICAgY29uc3QgZmlsZURhdGFQcm9taXNlID0gbmV3IFByb21pc2UoKHJlc29sdmUpID0+IHsKICAgICAgY29uc3QgcmVhZGVyID0gbmV3IEZpbGVSZWFkZXIoKTsKICAgICAgcmVhZGVyLm9ubG9hZCA9IChlKSA9PiB7CiAgICAgICAgcmVzb2x2ZShlLnRhcmdldC5yZXN1bHQpOwogICAgICB9OwogICAgICByZWFkZXIucmVhZEFzQXJyYXlCdWZmZXIoZmlsZSk7CiAgICB9KTsKICAgIC8vIFdhaXQgZm9yIHRoZSBkYXRhIHRvIGJlIHJlYWR5LgogICAgbGV0IGZpbGVEYXRhID0geWllbGQgewogICAgICBwcm9taXNlOiBmaWxlRGF0YVByb21pc2UsCiAgICAgIHJlc3BvbnNlOiB7CiAgICAgICAgYWN0aW9uOiAnY29udGludWUnLAogICAgICB9CiAgICB9OwoKICAgIC8vIFVzZSBhIGNodW5rZWQgc2VuZGluZyB0byBhdm9pZCBtZXNzYWdlIHNpemUgbGltaXRzLiBTZWUgYi82MjExNTY2MC4KICAgIGxldCBwb3NpdGlvbiA9IDA7CiAgICB3aGlsZSAocG9zaXRpb24gPCBmaWxlRGF0YS5ieXRlTGVuZ3RoKSB7CiAgICAgIGNvbnN0IGxlbmd0aCA9IE1hdGgubWluKGZpbGVEYXRhLmJ5dGVMZW5ndGggLSBwb3NpdGlvbiwgTUFYX1BBWUxPQURfU0laRSk7CiAgICAgIGNvbnN0IGNodW5rID0gbmV3IFVpbnQ4QXJyYXkoZmlsZURhdGEsIHBvc2l0aW9uLCBsZW5ndGgpOwogICAgICBwb3NpdGlvbiArPSBsZW5ndGg7CgogICAgICBjb25zdCBiYXNlNjQgPSBidG9hKFN0cmluZy5mcm9tQ2hhckNvZGUuYXBwbHkobnVsbCwgY2h1bmspKTsKICAgICAgeWllbGQgewogICAgICAgIHJlc3BvbnNlOiB7CiAgICAgICAgICBhY3Rpb246ICdhcHBlbmQnLAogICAgICAgICAgZmlsZTogZmlsZS5uYW1lLAogICAgICAgICAgZGF0YTogYmFzZTY0LAogICAgICAgIH0sCiAgICAgIH07CiAgICAgIHBlcmNlbnQudGV4dENvbnRlbnQgPQogICAgICAgICAgYCR7TWF0aC5yb3VuZCgocG9zaXRpb24gLyBmaWxlRGF0YS5ieXRlTGVuZ3RoKSAqIDEwMCl9JSBkb25lYDsKICAgIH0KICB9CgogIC8vIEFsbCBkb25lLgogIHlpZWxkIHsKICAgIHJlc3BvbnNlOiB7CiAgICAgIGFjdGlvbjogJ2NvbXBsZXRlJywKICAgIH0KICB9Owp9CgpzY29wZS5nb29nbGUgPSBzY29wZS5nb29nbGUgfHwge307CnNjb3BlLmdvb2dsZS5jb2xhYiA9IHNjb3BlLmdvb2dsZS5jb2xhYiB8fCB7fTsKc2NvcGUuZ29vZ2xlLmNvbGFiLl9maWxlcyA9IHsKICBfdXBsb2FkRmlsZXMsCiAgX3VwbG9hZEZpbGVzQ29udGludWUsCn07Cn0pKHNlbGYpOwo=",
              "ok": true,
              "headers": [
                [
                  "content-type",
                  "application/javascript"
                ]
              ],
              "status": 200,
              "status_text": ""
            }
          },
          "base_uri": "https://localhost:8080/",
          "height": 108
        }
      },
      "source": [
        "from google.colab import files\n",
        "uploaded = files.upload()"
      ],
      "execution_count": 1,
      "outputs": [
        {
          "output_type": "display_data",
          "data": {
            "text/html": [
              "\n",
              "     <input type=\"file\" id=\"files-ed65d867-812e-4089-967f-7ebac88fa52d\" name=\"files[]\" multiple disabled />\n",
              "     <output id=\"result-ed65d867-812e-4089-967f-7ebac88fa52d\">\n",
              "      Upload widget is only available when the cell has been executed in the\n",
              "      current browser session. Please rerun this cell to enable.\n",
              "      </output>\n",
              "      <script src=\"/nbextensions/google.colab/files.js\"></script> "
            ],
            "text/plain": [
              "<IPython.core.display.HTML object>"
            ]
          },
          "metadata": {
            "tags": []
          }
        },
        {
          "output_type": "stream",
          "text": [
            "Saving Aperturas.csv to Aperturas (1).csv\n",
            "Saving Movtos_Ctas_2015.csv to Movtos_Ctas_2015 (1).csv\n"
          ],
          "name": "stdout"
        }
      ]
    },
    {
      "cell_type": "markdown",
      "metadata": {
        "id": "oUAUcp4zkicI",
        "colab_type": "text"
      },
      "source": [
        "Librerias necesarias:\n"
      ]
    },
    {
      "cell_type": "code",
      "metadata": {
        "id": "XKDrBhdHTtQy",
        "colab_type": "code",
        "colab": {}
      },
      "source": [
        "import pandas as pd\n",
        "import matplotlib.pyplot as plt\n",
        "import numpy as np\n",
        "import seaborn as sns\n",
        "from datetime import datetime\n",
        "\n",
        "\n",
        "%matplotlib inline\n"
      ],
      "execution_count": 0,
      "outputs": []
    },
    {
      "cell_type": "code",
      "metadata": {
        "id": "kNIs7XRHTyRB",
        "colab_type": "code",
        "colab": {}
      },
      "source": [
        "df_aperturas = pd.read_csv('Aperturas.csv')\n",
        "df_mov = pd.read_csv('Movtos_Ctas_2015.csv',encoding='latin-1')"
      ],
      "execution_count": 0,
      "outputs": []
    },
    {
      "cell_type": "code",
      "metadata": {
        "id": "HO_K3YMuXVCp",
        "colab_type": "code",
        "outputId": "cb7396f3-e4bd-4b64-8627-0b9cd9268ed1",
        "colab": {
          "base_uri": "https://localhost:8080/",
          "height": 202
        }
      },
      "source": [
        "df_aperturas.head(5)"
      ],
      "execution_count": 4,
      "outputs": [
        {
          "output_type": "execute_result",
          "data": {
            "text/html": [
              "<div>\n",
              "<style scoped>\n",
              "    .dataframe tbody tr th:only-of-type {\n",
              "        vertical-align: middle;\n",
              "    }\n",
              "\n",
              "    .dataframe tbody tr th {\n",
              "        vertical-align: top;\n",
              "    }\n",
              "\n",
              "    .dataframe thead th {\n",
              "        text-align: right;\n",
              "    }\n",
              "</style>\n",
              "<table border=\"1\" class=\"dataframe\">\n",
              "  <thead>\n",
              "    <tr style=\"text-align: right;\">\n",
              "      <th></th>\n",
              "      <th>Numero_de_cuenta</th>\n",
              "      <th>Monto_de_apertura</th>\n",
              "      <th>Fecha_Apertura</th>\n",
              "      <th>Cliente</th>\n",
              "      <th>Tipo_de_Instrumento</th>\n",
              "    </tr>\n",
              "  </thead>\n",
              "  <tbody>\n",
              "    <tr>\n",
              "      <th>0</th>\n",
              "      <td>00MH985399</td>\n",
              "      <td>16046.40</td>\n",
              "      <td>3/6/2014</td>\n",
              "      <td>100540012</td>\n",
              "      <td>Cuenta corriente</td>\n",
              "    </tr>\n",
              "    <tr>\n",
              "      <th>1</th>\n",
              "      <td>00CU982321</td>\n",
              "      <td>379072.47</td>\n",
              "      <td>11/24/2014</td>\n",
              "      <td>100540013</td>\n",
              "      <td>Cuenta corriente</td>\n",
              "    </tr>\n",
              "    <tr>\n",
              "      <th>2</th>\n",
              "      <td>00CU982323</td>\n",
              "      <td>1603.86</td>\n",
              "      <td>2/12/2013</td>\n",
              "      <td>100540014</td>\n",
              "      <td>Cuenta corriente</td>\n",
              "    </tr>\n",
              "    <tr>\n",
              "      <th>3</th>\n",
              "      <td>00CU982324</td>\n",
              "      <td>3207.72</td>\n",
              "      <td>2/19/2013</td>\n",
              "      <td>100540015</td>\n",
              "      <td>Cuenta corriente</td>\n",
              "    </tr>\n",
              "    <tr>\n",
              "      <th>4</th>\n",
              "      <td>00CU982509</td>\n",
              "      <td>880377.46</td>\n",
              "      <td>9/9/2013</td>\n",
              "      <td>100540016</td>\n",
              "      <td>Cuenta corriente</td>\n",
              "    </tr>\n",
              "  </tbody>\n",
              "</table>\n",
              "</div>"
            ],
            "text/plain": [
              "  Numero_de_cuenta  Monto_de_apertura  ...    Cliente  Tipo_de_Instrumento\n",
              "0       00MH985399           16046.40  ...  100540012     Cuenta corriente\n",
              "1       00CU982321          379072.47  ...  100540013     Cuenta corriente\n",
              "2       00CU982323            1603.86  ...  100540014     Cuenta corriente\n",
              "3       00CU982324            3207.72  ...  100540015     Cuenta corriente\n",
              "4       00CU982509          880377.46  ...  100540016     Cuenta corriente\n",
              "\n",
              "[5 rows x 5 columns]"
            ]
          },
          "metadata": {
            "tags": []
          },
          "execution_count": 4
        }
      ]
    },
    {
      "cell_type": "code",
      "metadata": {
        "id": "vWvjuJLWXben",
        "colab_type": "code",
        "outputId": "161f78c7-1a1a-46b8-fb9a-1a9280404eed",
        "colab": {
          "base_uri": "https://localhost:8080/",
          "height": 202
        }
      },
      "source": [
        "df_mov.head(5)"
      ],
      "execution_count": 5,
      "outputs": [
        {
          "output_type": "execute_result",
          "data": {
            "text/html": [
              "<div>\n",
              "<style scoped>\n",
              "    .dataframe tbody tr th:only-of-type {\n",
              "        vertical-align: middle;\n",
              "    }\n",
              "\n",
              "    .dataframe tbody tr th {\n",
              "        vertical-align: top;\n",
              "    }\n",
              "\n",
              "    .dataframe thead th {\n",
              "        text-align: right;\n",
              "    }\n",
              "</style>\n",
              "<table border=\"1\" class=\"dataframe\">\n",
              "  <thead>\n",
              "    <tr style=\"text-align: right;\">\n",
              "      <th></th>\n",
              "      <th>Numero_de_cuenta</th>\n",
              "      <th>Monto_transacción</th>\n",
              "      <th>Sucursal_nombre</th>\n",
              "      <th>Fecha_Transaccion</th>\n",
              "      <th>Hora_transaccion</th>\n",
              "      <th>Tipo_de_Transacción</th>\n",
              "      <th>Operador</th>\n",
              "      <th>Referencia</th>\n",
              "    </tr>\n",
              "  </thead>\n",
              "  <tbody>\n",
              "    <tr>\n",
              "      <th>0</th>\n",
              "      <td>00BJ987645</td>\n",
              "      <td>409.29</td>\n",
              "      <td>BENITO JUÁREZ</td>\n",
              "      <td>6/15/2015</td>\n",
              "      <td>02:56:08 a. m.</td>\n",
              "      <td>DEFE</td>\n",
              "      <td>BJ1037</td>\n",
              "      <td>3064980</td>\n",
              "    </tr>\n",
              "    <tr>\n",
              "      <th>1</th>\n",
              "      <td>00BJ961410</td>\n",
              "      <td>525.00</td>\n",
              "      <td>BENITO JUÁREZ</td>\n",
              "      <td>6/10/2015</td>\n",
              "      <td>02:56:08 a. m.</td>\n",
              "      <td>RECJ</td>\n",
              "      <td>BJ1037</td>\n",
              "      <td>3064981</td>\n",
              "    </tr>\n",
              "    <tr>\n",
              "      <th>2</th>\n",
              "      <td>00BJ962496</td>\n",
              "      <td>1114475.13</td>\n",
              "      <td>BENITO JUÁREZ</td>\n",
              "      <td>5/27/2015</td>\n",
              "      <td>02:56:08 a. m.</td>\n",
              "      <td>DCHQ</td>\n",
              "      <td>BJ0104</td>\n",
              "      <td>3064982</td>\n",
              "    </tr>\n",
              "    <tr>\n",
              "      <th>3</th>\n",
              "      <td>00BJ980224</td>\n",
              "      <td>111483.75</td>\n",
              "      <td>BENITO JUÁREZ</td>\n",
              "      <td>5/9/2015</td>\n",
              "      <td>02:56:08 a. m.</td>\n",
              "      <td>DCHQ</td>\n",
              "      <td>BJ0105</td>\n",
              "      <td>3064983</td>\n",
              "    </tr>\n",
              "    <tr>\n",
              "      <th>4</th>\n",
              "      <td>00BJ962502</td>\n",
              "      <td>10533.54</td>\n",
              "      <td>BENITO JUÁREZ</td>\n",
              "      <td>5/5/2015</td>\n",
              "      <td>02:56:08 a. m.</td>\n",
              "      <td>DCHQ</td>\n",
              "      <td>BJ0109</td>\n",
              "      <td>3064984</td>\n",
              "    </tr>\n",
              "  </tbody>\n",
              "</table>\n",
              "</div>"
            ],
            "text/plain": [
              "  Numero_de_cuenta  Monto_transacción  ... Operador Referencia\n",
              "0       00BJ987645             409.29  ...   BJ1037    3064980\n",
              "1       00BJ961410             525.00  ...   BJ1037    3064981\n",
              "2       00BJ962496         1114475.13  ...   BJ0104    3064982\n",
              "3       00BJ980224          111483.75  ...   BJ0105    3064983\n",
              "4       00BJ962502           10533.54  ...   BJ0109    3064984\n",
              "\n",
              "[5 rows x 8 columns]"
            ]
          },
          "metadata": {
            "tags": []
          },
          "execution_count": 5
        }
      ]
    },
    {
      "cell_type": "code",
      "metadata": {
        "id": "I-Gldfq7-q2C",
        "colab_type": "code",
        "outputId": "4511b7b3-fade-44dd-bcdb-988df741b409",
        "colab": {
          "base_uri": "https://localhost:8080/",
          "height": 52
        }
      },
      "source": [
        "print(df_aperturas.shape)\n",
        "print(df_mov.shape)\n"
      ],
      "execution_count": 6,
      "outputs": [
        {
          "output_type": "stream",
          "text": [
            "(6980, 5)\n",
            "(65534, 8)\n"
          ],
          "name": "stdout"
        }
      ]
    },
    {
      "cell_type": "code",
      "metadata": {
        "id": "j_glK-BAX5S8",
        "colab_type": "code",
        "outputId": "e74f2245-f4c4-4b7a-aa9d-bd9fd92f0d94",
        "colab": {
          "base_uri": "https://localhost:8080/",
          "height": 173
        }
      },
      "source": [
        "df_mov.Monto_transacción.describe()"
      ],
      "execution_count": 7,
      "outputs": [
        {
          "output_type": "execute_result",
          "data": {
            "text/plain": [
              "count    6.553400e+04\n",
              "mean     3.193806e+05\n",
              "std      1.673933e+07\n",
              "min      0.000000e+00\n",
              "25%      6.336000e+02\n",
              "50%      2.875890e+03\n",
              "75%      1.315455e+04\n",
              "max      2.924383e+09\n",
              "Name: Monto_transacción, dtype: float64"
            ]
          },
          "metadata": {
            "tags": []
          },
          "execution_count": 7
        }
      ]
    },
    {
      "cell_type": "code",
      "metadata": {
        "id": "qQTkRjrzbewO",
        "colab_type": "code",
        "outputId": "25c343dd-9ad9-4b70-9871-42d4d46f95d5",
        "colab": {
          "base_uri": "https://localhost:8080/",
          "height": 260
        }
      },
      "source": [
        "print(df_mov.info())"
      ],
      "execution_count": 8,
      "outputs": [
        {
          "output_type": "stream",
          "text": [
            "<class 'pandas.core.frame.DataFrame'>\n",
            "RangeIndex: 65534 entries, 0 to 65533\n",
            "Data columns (total 8 columns):\n",
            "Numero_de_cuenta       65534 non-null object\n",
            "Monto_transacción      65534 non-null float64\n",
            "Sucursal_nombre        65534 non-null object\n",
            "Fecha_Transaccion      65528 non-null object\n",
            "Hora_transaccion       65528 non-null object\n",
            "Tipo_de_Transacción    65534 non-null object\n",
            "Operador               65534 non-null object\n",
            "Referencia             65534 non-null int64\n",
            "dtypes: float64(1), int64(1), object(6)\n",
            "memory usage: 4.0+ MB\n",
            "None\n"
          ],
          "name": "stdout"
        }
      ]
    },
    {
      "cell_type": "code",
      "metadata": {
        "id": "Ldov4nmxc2uX",
        "colab_type": "code",
        "colab": {}
      },
      "source": [
        "#df_mov['Fecha_Transaccion'] =  pd.to_datetime(df_mov['Fecha_Transaccion'],\n",
        " #                             format='%m/%d/%Y')\n",
        "\n",
        "# Confirm the date column is in datetime format\n",
        "#print(df_mov.info())"
      ],
      "execution_count": 0,
      "outputs": []
    },
    {
      "cell_type": "code",
      "metadata": {
        "id": "JGBVHOIRdj1t",
        "colab_type": "code",
        "outputId": "d75100fa-9d7c-4c05-cee1-78b7cfbad4b5",
        "colab": {
          "base_uri": "https://localhost:8080/",
          "height": 202
        }
      },
      "source": [
        "df_mov.head(5)"
      ],
      "execution_count": 10,
      "outputs": [
        {
          "output_type": "execute_result",
          "data": {
            "text/html": [
              "<div>\n",
              "<style scoped>\n",
              "    .dataframe tbody tr th:only-of-type {\n",
              "        vertical-align: middle;\n",
              "    }\n",
              "\n",
              "    .dataframe tbody tr th {\n",
              "        vertical-align: top;\n",
              "    }\n",
              "\n",
              "    .dataframe thead th {\n",
              "        text-align: right;\n",
              "    }\n",
              "</style>\n",
              "<table border=\"1\" class=\"dataframe\">\n",
              "  <thead>\n",
              "    <tr style=\"text-align: right;\">\n",
              "      <th></th>\n",
              "      <th>Numero_de_cuenta</th>\n",
              "      <th>Monto_transacción</th>\n",
              "      <th>Sucursal_nombre</th>\n",
              "      <th>Fecha_Transaccion</th>\n",
              "      <th>Hora_transaccion</th>\n",
              "      <th>Tipo_de_Transacción</th>\n",
              "      <th>Operador</th>\n",
              "      <th>Referencia</th>\n",
              "    </tr>\n",
              "  </thead>\n",
              "  <tbody>\n",
              "    <tr>\n",
              "      <th>0</th>\n",
              "      <td>00BJ987645</td>\n",
              "      <td>409.29</td>\n",
              "      <td>BENITO JUÁREZ</td>\n",
              "      <td>6/15/2015</td>\n",
              "      <td>02:56:08 a. m.</td>\n",
              "      <td>DEFE</td>\n",
              "      <td>BJ1037</td>\n",
              "      <td>3064980</td>\n",
              "    </tr>\n",
              "    <tr>\n",
              "      <th>1</th>\n",
              "      <td>00BJ961410</td>\n",
              "      <td>525.00</td>\n",
              "      <td>BENITO JUÁREZ</td>\n",
              "      <td>6/10/2015</td>\n",
              "      <td>02:56:08 a. m.</td>\n",
              "      <td>RECJ</td>\n",
              "      <td>BJ1037</td>\n",
              "      <td>3064981</td>\n",
              "    </tr>\n",
              "    <tr>\n",
              "      <th>2</th>\n",
              "      <td>00BJ962496</td>\n",
              "      <td>1114475.13</td>\n",
              "      <td>BENITO JUÁREZ</td>\n",
              "      <td>5/27/2015</td>\n",
              "      <td>02:56:08 a. m.</td>\n",
              "      <td>DCHQ</td>\n",
              "      <td>BJ0104</td>\n",
              "      <td>3064982</td>\n",
              "    </tr>\n",
              "    <tr>\n",
              "      <th>3</th>\n",
              "      <td>00BJ980224</td>\n",
              "      <td>111483.75</td>\n",
              "      <td>BENITO JUÁREZ</td>\n",
              "      <td>5/9/2015</td>\n",
              "      <td>02:56:08 a. m.</td>\n",
              "      <td>DCHQ</td>\n",
              "      <td>BJ0105</td>\n",
              "      <td>3064983</td>\n",
              "    </tr>\n",
              "    <tr>\n",
              "      <th>4</th>\n",
              "      <td>00BJ962502</td>\n",
              "      <td>10533.54</td>\n",
              "      <td>BENITO JUÁREZ</td>\n",
              "      <td>5/5/2015</td>\n",
              "      <td>02:56:08 a. m.</td>\n",
              "      <td>DCHQ</td>\n",
              "      <td>BJ0109</td>\n",
              "      <td>3064984</td>\n",
              "    </tr>\n",
              "  </tbody>\n",
              "</table>\n",
              "</div>"
            ],
            "text/plain": [
              "  Numero_de_cuenta  Monto_transacción  ... Operador Referencia\n",
              "0       00BJ987645             409.29  ...   BJ1037    3064980\n",
              "1       00BJ961410             525.00  ...   BJ1037    3064981\n",
              "2       00BJ962496         1114475.13  ...   BJ0104    3064982\n",
              "3       00BJ980224          111483.75  ...   BJ0105    3064983\n",
              "4       00BJ962502           10533.54  ...   BJ0109    3064984\n",
              "\n",
              "[5 rows x 8 columns]"
            ]
          },
          "metadata": {
            "tags": []
          },
          "execution_count": 10
        }
      ]
    },
    {
      "cell_type": "code",
      "metadata": {
        "id": "_awB0wUCfMWd",
        "colab_type": "code",
        "outputId": "b9266050-56c8-4c68-86fe-a6de5c7f7a5f",
        "colab": {
          "base_uri": "https://localhost:8080/",
          "height": 173
        }
      },
      "source": [
        "df_mov.isnull().any()"
      ],
      "execution_count": 11,
      "outputs": [
        {
          "output_type": "execute_result",
          "data": {
            "text/plain": [
              "Numero_de_cuenta       False\n",
              "Monto_transacción      False\n",
              "Sucursal_nombre        False\n",
              "Fecha_Transaccion       True\n",
              "Hora_transaccion        True\n",
              "Tipo_de_Transacción    False\n",
              "Operador               False\n",
              "Referencia             False\n",
              "dtype: bool"
            ]
          },
          "metadata": {
            "tags": []
          },
          "execution_count": 11
        }
      ]
    },
    {
      "cell_type": "code",
      "metadata": {
        "id": "2iKJ8UxWhF7L",
        "colab_type": "code",
        "outputId": "8dc1be57-0ab2-41a4-af43-bbca88cc4c15",
        "colab": {
          "base_uri": "https://localhost:8080/",
          "height": 34
        }
      },
      "source": [
        "df_mov['Fecha_Transaccion'].isnull().any()"
      ],
      "execution_count": 12,
      "outputs": [
        {
          "output_type": "execute_result",
          "data": {
            "text/plain": [
              "True"
            ]
          },
          "metadata": {
            "tags": []
          },
          "execution_count": 12
        }
      ]
    },
    {
      "cell_type": "code",
      "metadata": {
        "id": "MjXKmesah-Ns",
        "colab_type": "code",
        "colab": {}
      },
      "source": [
        "df = df_mov.dropna()"
      ],
      "execution_count": 0,
      "outputs": []
    },
    {
      "cell_type": "code",
      "metadata": {
        "id": "rzJTMVTziwHH",
        "colab_type": "code",
        "outputId": "2fae13de-17c8-49a7-a8d6-3ede7b993e67",
        "colab": {
          "base_uri": "https://localhost:8080/",
          "height": 173
        }
      },
      "source": [
        "df.isnull().any()"
      ],
      "execution_count": 14,
      "outputs": [
        {
          "output_type": "execute_result",
          "data": {
            "text/plain": [
              "Numero_de_cuenta       False\n",
              "Monto_transacción      False\n",
              "Sucursal_nombre        False\n",
              "Fecha_Transaccion      False\n",
              "Hora_transaccion       False\n",
              "Tipo_de_Transacción    False\n",
              "Operador               False\n",
              "Referencia             False\n",
              "dtype: bool"
            ]
          },
          "metadata": {
            "tags": []
          },
          "execution_count": 14
        }
      ]
    },
    {
      "cell_type": "code",
      "metadata": {
        "id": "td7xEkkKiyu-",
        "colab_type": "code",
        "outputId": "4023b15d-497e-4fae-9510-66845268642a",
        "colab": {
          "base_uri": "https://localhost:8080/",
          "height": 242
        }
      },
      "source": [
        "df.info()"
      ],
      "execution_count": 15,
      "outputs": [
        {
          "output_type": "stream",
          "text": [
            "<class 'pandas.core.frame.DataFrame'>\n",
            "Int64Index: 65528 entries, 0 to 65533\n",
            "Data columns (total 8 columns):\n",
            "Numero_de_cuenta       65528 non-null object\n",
            "Monto_transacción      65528 non-null float64\n",
            "Sucursal_nombre        65528 non-null object\n",
            "Fecha_Transaccion      65528 non-null object\n",
            "Hora_transaccion       65528 non-null object\n",
            "Tipo_de_Transacción    65528 non-null object\n",
            "Operador               65528 non-null object\n",
            "Referencia             65528 non-null int64\n",
            "dtypes: float64(1), int64(1), object(6)\n",
            "memory usage: 4.5+ MB\n"
          ],
          "name": "stdout"
        }
      ]
    },
    {
      "cell_type": "code",
      "metadata": {
        "id": "YXNYfgS1mUAZ",
        "colab_type": "code",
        "outputId": "0317b9cc-353c-4376-d701-07e1a51ce812",
        "colab": {
          "base_uri": "https://localhost:8080/",
          "height": 292
        }
      },
      "source": [
        "sns.distplot(df['Monto_transacción']);"
      ],
      "execution_count": 16,
      "outputs": [
        {
          "output_type": "display_data",
          "data": {
            "image/png": "[encoded data removed]",
            "text/plain": [
              "<Figure size 432x288 with 1 Axes>"
            ]
          },
          "metadata": {
            "tags": []
          }
        }
      ]
    },
    {
      "cell_type": "code",
      "metadata": {
        "id": "STvf7h3uu4i6",
        "colab_type": "code",
        "outputId": "de02fd61-52ae-4a0e-ec95-50086850856a",
        "colab": {
          "base_uri": "https://localhost:8080/",
          "height": 386
        }
      },
      "source": [
        "plt.hist(df['Monto_transacción'])"
      ],
      "execution_count": 17,
      "outputs": [
        {
          "output_type": "execute_result",
          "data": {
            "text/plain": [
              "(array([6.5514e+04, 6.0000e+00, 1.0000e+00, 5.0000e+00, 0.0000e+00,\n",
              "        0.0000e+00, 1.0000e+00, 0.0000e+00, 0.0000e+00, 1.0000e+00]),\n",
              " array([0.00000000e+00, 2.92438320e+08, 5.84876639e+08, 8.77314959e+08,\n",
              "        1.16975328e+09, 1.46219160e+09, 1.75462992e+09, 2.04706824e+09,\n",
              "        2.33950656e+09, 2.63194488e+09, 2.92438320e+09]),\n",
              " <a list of 10 Patch objects>)"
            ]
          },
          "metadata": {
            "tags": []
          },
          "execution_count": 17
        },
        {
          "output_type": "display_data",
          "data": {
            "image/png": "[encoded data removed]",
            "text/plain": [
              "<Figure size 432x288 with 1 Axes>"
            ]
          },
          "metadata": {
            "tags": []
          }
        }
      ]
    },
    {
      "cell_type": "code",
      "metadata": {
        "id": "UBLmc578w_dh",
        "colab_type": "code",
        "outputId": "a68e9636-8a5b-4ea7-c15b-946c12b65e22",
        "colab": {
          "base_uri": "https://localhost:8080/",
          "height": 34
        }
      },
      "source": [
        "plt.scatter(x=\"Numero_de_cuenta\", y=\"Monto_transacción\", data=df)"
      ],
      "execution_count": 0,
      "outputs": [
        {
          "output_type": "execute_result",
          "data": {
            "text/plain": [
              "<matplotlib.collections.PathCollection at 0x7fd609a4e2e8>"
            ]
          },
          "metadata": {
            "tags": []
          },
          "execution_count": 19
        }
      ]
    },
    {
      "cell_type": "code",
      "metadata": {
        "id": "zQ8qaoafxeXM",
        "colab_type": "code",
        "colab": {}
      },
      "source": [
        "df_cd = pd.merge(df_aperturas, df, how='inner', on = 'Numero_de_cuenta')"
      ],
      "execution_count": 0,
      "outputs": []
    },
    {
      "cell_type": "code",
      "metadata": {
        "id": "EUhgtN67AHWR",
        "colab_type": "code",
        "colab": {}
      },
      "source": [
        "df_cd.head(5)\n"
      ],
      "execution_count": 0,
      "outputs": []
    },
    {
      "cell_type": "code",
      "metadata": {
        "id": "6jel-kilAJvY",
        "colab_type": "code",
        "colab": {}
      },
      "source": [
        "print(df_cd.shape)"
      ],
      "execution_count": 0,
      "outputs": []
    },
    {
      "cell_type": "code",
      "metadata": {
        "id": "qNXnWthVAhRa",
        "colab_type": "code",
        "colab": {}
      },
      "source": [
        "cols_to_transform = [ 'Tipo_de_Instrumento',  'Tipo_de_Transacción', ]\n",
        "df_with_dummies = pd.get_dummies(df_cd,columns = cols_to_transform )"
      ],
      "execution_count": 0,
      "outputs": []
    },
    {
      "cell_type": "code",
      "metadata": {
        "id": "dOK6iaGvMasG",
        "colab_type": "code",
        "colab": {}
      },
      "source": [
        "df_with_dummies"
      ],
      "execution_count": 0,
      "outputs": []
    },
    {
      "cell_type": "code",
      "metadata": {
        "id": "oTHzn-TUnLGz",
        "colab_type": "code",
        "colab": {}
      },
      "source": [
        "sns.distplot(df_with_dummies['Tipo_de_Instrumento_Cuenta corriente']);"
      ],
      "execution_count": 0,
      "outputs": []
    },
    {
      "cell_type": "code",
      "metadata": {
        "id": "3hM5R-ZLneOT",
        "colab_type": "code",
        "colab": {}
      },
      "source": [
        "sns.barplot(x=df_with_dummies['Tipo_de_Instrumento_Cuenta corriente'],y=df_with_dummies['Tipo_de_Instrumento_Cuenta de ahorro']);"
      ],
      "execution_count": 0,
      "outputs": []
    },
    {
      "cell_type": "code",
      "metadata": {
        "id": "dQGrCsv9ooLh",
        "colab_type": "code",
        "colab": {}
      },
      "source": [
        "df_cd.info()\n",
        "df_time = df_cd"
      ],
      "execution_count": 0,
      "outputs": []
    },
    {
      "cell_type": "code",
      "metadata": {
        "id": "PUtpEhB3pLes",
        "colab_type": "code",
        "colab": {}
      },
      "source": [
        "#df_time['Fecha_Apertura'] =  pd.to_datetime(df_time['Fecha_Apertura'],\n",
        "                             # format='%m/%d/%Y')\n",
        "#df_time['Hora_transaccion'] =  pd.to_datetime(df_time['Hora_transaccion']).dt.strftime('%H:%M:%S')"
      ],
      "execution_count": 0,
      "outputs": []
    },
    {
      "cell_type": "code",
      "metadata": {
        "id": "hlU9-b0Apl-y",
        "colab_type": "code",
        "colab": {}
      },
      "source": [
        "df_time['Fecha Transaccion'] = pd.to_datetime(df_time['Fecha_Transaccion'] + ' ' + df_time['Hora_transaccion'])\n",
        "df_time.info()"
      ],
      "execution_count": 0,
      "outputs": []
    },
    {
      "cell_type": "code",
      "metadata": {
        "id": "Gg-YDT2vtGBz",
        "colab_type": "code",
        "colab": {}
      },
      "source": [
        "#df_time['Hora_transaccion'] = pd.to_datetime(df_time['Hora_transaccion']).dt.time"
      ],
      "execution_count": 0,
      "outputs": []
    },
    {
      "cell_type": "code",
      "metadata": {
        "id": "N2fLz5ietdDR",
        "colab_type": "code",
        "colab": {}
      },
      "source": [
        "df_time"
      ],
      "execution_count": 0,
      "outputs": []
    },
    {
      "cell_type": "code",
      "metadata": {
        "id": "5MWVWn9AuMik",
        "colab_type": "code",
        "colab": {}
      },
      "source": [
        "df_time = df_time.drop(columns=['Fecha_Transaccion','Hora_transaccion'])"
      ],
      "execution_count": 0,
      "outputs": []
    },
    {
      "cell_type": "code",
      "metadata": {
        "id": "S4f_mpLSuRE7",
        "colab_type": "code",
        "colab": {}
      },
      "source": [
        "df_time"
      ],
      "execution_count": 0,
      "outputs": []
    },
    {
      "cell_type": "code",
      "metadata": {
        "id": "q4eKa4YO0DQk",
        "colab_type": "code",
        "colab": {}
      },
      "source": [
        "df_time['Fecha_Apertura'] = pd.to_datetime(df_time['Fecha_Apertura'])"
      ],
      "execution_count": 0,
      "outputs": []
    },
    {
      "cell_type": "code",
      "metadata": {
        "id": "u2-AOMM80dBY",
        "colab_type": "code",
        "colab": {}
      },
      "source": [
        "df_time.info()"
      ],
      "execution_count": 0,
      "outputs": []
    },
    {
      "cell_type": "code",
      "metadata": {
        "id": "Xmma3UtC0hRW",
        "colab_type": "code",
        "colab": {}
      },
      "source": [
        "df_time"
      ],
      "execution_count": 0,
      "outputs": []
    },
    {
      "cell_type": "code",
      "metadata": {
        "id": "BaJs4gLJ0-Tq",
        "colab_type": "code",
        "colab": {}
      },
      "source": [
        "cols_to_transform = [ 'Tipo_de_Instrumento',  'Tipo_de_Transacción', ]\n",
        "df_time_wdummies = pd.get_dummies(df_time,columns = cols_to_transform )"
      ],
      "execution_count": 0,
      "outputs": []
    },
    {
      "cell_type": "code",
      "metadata": {
        "id": "cctzRz4I1M8c",
        "colab_type": "code",
        "colab": {}
      },
      "source": [
        "df_time_wdummies"
      ],
      "execution_count": 0,
      "outputs": []
    },
    {
      "cell_type": "code",
      "metadata": {
        "id": "g98I1EAn1O_M",
        "colab_type": "code",
        "colab": {}
      },
      "source": [
        "df_time_wdummies.info()"
      ],
      "execution_count": 0,
      "outputs": []
    },
    {
      "cell_type": "code",
      "metadata": {
        "id": "MmiuMa3l1lzo",
        "colab_type": "code",
        "colab": {}
      },
      "source": [
        "df_time_wdummies.isnull().any()"
      ],
      "execution_count": 0,
      "outputs": []
    },
    {
      "cell_type": "code",
      "metadata": {
        "id": "qP7X5D_b2-Po",
        "colab_type": "code",
        "colab": {}
      },
      "source": [
        "cuenta_corriente = df_time_wdummies['Tipo_de_Instrumento_Cuenta corriente'].sum()\n",
        "cuenta_de_ahorro = df_time_wdummies['Tipo_de_Instrumento_Cuenta de ahorro'].sum()\n",
        "deposito_cheques = df_time_wdummies['Tipo_de_Transacción_DCHQ'].sum()\n",
        "deposito_efectivo = df_time_wdummies['Tipo_de_Transacción_DEFE'].sum()\n",
        "retiro_cajero = df_time_wdummies['Tipo_de_Transacción_RECJ'].sum()\n",
        "retiro_ventanilla = df_time_wdummies['Tipo_de_Transacción_REVN'].sum()"
      ],
      "execution_count": 0,
      "outputs": []
    },
    {
      "cell_type": "code",
      "metadata": {
        "id": "yyMNgPIq4V_a",
        "colab_type": "code",
        "colab": {}
      },
      "source": [
        "df_instrumentos = pd.DataFrame({'Instrumentos':['cuenta_corriente', 'cuenta_de_ahorro'], 'Cantidad':[cuenta_corriente, cuenta_de_ahorro]})\n",
        "ax = df_instrumentos.plot.bar(x='Instrumentos', y='Cantidad', rot=0)"
      ],
      "execution_count": 0,
      "outputs": []
    },
    {
      "cell_type": "code",
      "metadata": {
        "id": "7n-UDJGg5LYI",
        "colab_type": "code",
        "colab": {}
      },
      "source": [
        "df_mvt = pd.DataFrame({'Movimientos':['dep cheques', 'dep efectivo','ret cajero','ret ventanilla'], 'Cantidad':[deposito_cheques,deposito_efectivo,retiro_cajero,retiro_ventanilla]})\n",
        "ax = df_mvt.plot.bar(x='Movimientos', y='Cantidad', rot=0)"
      ],
      "execution_count": 0,
      "outputs": []
    },
    {
      "cell_type": "code",
      "metadata": {
        "id": "aw3GR-XUOZ72",
        "colab_type": "code",
        "colab": {}
      },
      "source": [
        ""
      ],
      "execution_count": 0,
      "outputs": []
    }
  ]
}